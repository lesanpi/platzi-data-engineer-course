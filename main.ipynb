{
 "metadata": {
  "language_info": {
   "codemirror_mode": {
    "name": "ipython",
    "version": 3
   },
   "file_extension": ".py",
   "mimetype": "text/x-python",
   "name": "python",
   "nbconvert_exporter": "python",
   "pygments_lexer": "ipython3",
   "version": "3.7.4-final"
  },
  "orig_nbformat": 2,
  "kernelspec": {
   "name": "python3",
   "display_name": "Python 3.7.4 64-bit ('ingenieria-de-datos': virtualenv)",
   "metadata": {
    "interpreter": {
     "hash": "8a1f937f1c8eed0d125750941d6771247ede6587c0e525c6d70529be79faa3f8"
    }
   }
  }
 },
 "nbformat": 4,
 "nbformat_minor": 2,
 "cells": [
  {
   "cell_type": "code",
   "execution_count": 3,
   "metadata": {},
   "outputs": [],
   "source": [
    "import requests\n",
    "\n",
    "response = requests.get(\"https://www.platzi.com\")"
   ]
  },
  {
   "cell_type": "code",
   "execution_count": 7,
   "metadata": {},
   "outputs": [
    {
     "output_type": "stream",
     "name": "stdout",
     "text": [
      "Platzi: âCursos Online Profesionales de TecnologÃ­a\n[<meta content=\"Aprende desde cero a crear el futuro web con nuestros Cursos Online Profesionales de TecnologÃ­a. ðÂ¡Cursos de Desarrollo, DiseÃ±o, Marketing y Negocios!\" name=\"description\"/>]\n"
     ]
    }
   ],
   "source": [
    "import bs4\n",
    "\n",
    "soup = bs4.BeautifulSoup(response.text, \"html.parser\")\n",
    "print(soup.title.text)\n",
    "print(soup.select('meta[name=description]'))"
   ]
  },
  {
   "cell_type": "code",
   "execution_count": null,
   "metadata": {},
   "outputs": [],
   "source": []
  }
 ]
}